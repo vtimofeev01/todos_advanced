{
 "cells": [
  {
   "cell_type": "code",
   "execution_count": 58,
   "metadata": {
    "collapsed": true
   },
   "outputs": [],
   "source": [
    "import re\n",
    "\n",
    "re_tags = re.compile(r'<(?P<open_tag>[^\\/][^ ]*)?(?P<attrib>[^>]*)>(?P<body>[^<]*)<\\/(?P<end_tag>[^<]*)>')\n",
    "re_mail = re.compile(r'^[\\w-]+@([\\w-]+\\.)+[\\w-]{2,8}')\n",
    "format_tagged = \"<%s %s> %s </%s>\"\n",
    "format_untagged = \"%s\"\n",
    "\n",
    "tags_translation = {\n",
    "  'STRONG': 'strong',\n",
    "  'B': 'strong',\n",
    "  'I': 'strong',\n",
    "  'U': 'strong',\n",
    "  'SPAN': 'strong',\n",
    "  'A': 'a',\n",
    "  'UL': 'ul',\n",
    "  'P': 'ul',\n",
    "}\n",
    "\n",
    "pattern_url = re.compile(r'(https?:\\/\\/|www)([a-zA-Z0-9а-яА-Я\\.\\-_]{1,256}\\.[a-zA-Z0-9а-яА-Я]{1,9}[a-zA-Z0-9\\/\\\\\\?\\#=_\\-\\!\\\"\\$\\%\\&\\'\\(\\)\\*\\+\\,\\.\\:\\;\\<\\>\\?\\@\\]\\^\\`\\{\\|\\}\\~]*)')\n",
    "\n",
    "pattern_mail = re.compile(r'([A-Za-z0-9]+[.-_])*[A-Za-z0-9]+@[A-Za-z0-9-]+(\\.[A-Z|a-z]{2,})+')\n",
    "\n",
    "\n",
    "\n"
   ]
  },
  {
   "cell_type": "code",
   "execution_count": 59,
   "outputs": [],
   "source": [
    "test_str = 'жОПА КАКАЯ-ТО НО ТОЖЕ ВАЖНО </td> <td class=\"assigned\">Центр согласование</td> непонятгнгозачем и для чего <td class=\"goal_at is_near\">21.1.23</td>  важно чтобы не было <td class=\"finished_at\"> <a href=\"/set_todo_done/1/74/\">&check; </a>  </td>  www.lenta.ru  и на почту al@mail.ru'"
   ],
   "metadata": {
    "collapsed": false
   }
  },
  {
   "cell_type": "code",
   "execution_count": 60,
   "outputs": [
    {
     "name": "stdout",
     "output_type": "stream",
     "text": [
      "жопа какая-то но тоже важно </td> центр согласование непонятгнгозачем и для чего 21.1.23  важно чтобы не было <td class=\"finished_at\"> <a  href=\"/set_todo_done/1/74/\">&check; </a>  </td>  <a href=\"www.lenta.ru\"> mail </a>  и на почту <a href=\"mailto:al@mail.ru\"> al@mail.ru </a>\n"
     ]
    }
   ],
   "source": [
    "def find_actions(s: str) -> dict:\n",
    "    pass\n",
    "\n",
    "\n",
    "\n",
    "def text_parse(s: str) -> str:\n",
    "\n",
    "    found = re_tags.search(s)\n",
    "    if found is not None:\n",
    "        p1, p2 = found.span()\n",
    "        tag = tags_translation.get(found['open_tag'].upper(), None)\n",
    "        if tag is None:\n",
    "            tag_str = found['body']\n",
    "        else:\n",
    "            tag_str =  f\"<{tag} {found['attrib']}>{found['body']}</{tag}>\"\n",
    "    if found is None:\n",
    "        found = pattern_url.search(s)\n",
    "        if found is not None:\n",
    "            p1, p2 = found.span()\n",
    "            tag_str = f'<a href=\"{found.group(0)}\"> mail </a>'\n",
    "    if found is None:\n",
    "        found = pattern_mail.search(s)\n",
    "        if found is not None:\n",
    "            p1, p2 = found.span()\n",
    "            tag_str = f'<a href=\"mailto:{found.group(0)}\"> {found.group(0)} </a>'\n",
    "    if found is None:\n",
    "        return s\n",
    "    return text_parse(s[:p1]) + tag_str + text_parse(s[p2:])\n",
    "\n",
    "\n",
    "\n",
    "print(text_parse(test_str.lower()))"
   ],
   "metadata": {
    "collapsed": false
   }
  },
  {
   "cell_type": "code",
   "execution_count": 60,
   "outputs": [],
   "source": [],
   "metadata": {
    "collapsed": false
   }
  },
  {
   "cell_type": "code",
   "execution_count": 60,
   "outputs": [],
   "source": [],
   "metadata": {
    "collapsed": false
   }
  },
  {
   "cell_type": "code",
   "execution_count": 60,
   "outputs": [],
   "source": [
    "\n",
    "\n",
    "\n",
    "\n",
    "\n"
   ],
   "metadata": {
    "collapsed": false
   }
  },
  {
   "cell_type": "code",
   "execution_count": 60,
   "outputs": [],
   "source": [],
   "metadata": {
    "collapsed": false
   }
  }
 ],
 "metadata": {
  "kernelspec": {
   "display_name": "Python 3",
   "language": "python",
   "name": "python3"
  },
  "language_info": {
   "codemirror_mode": {
    "name": "ipython",
    "version": 2
   },
   "file_extension": ".py",
   "mimetype": "text/x-python",
   "name": "python",
   "nbconvert_exporter": "python",
   "pygments_lexer": "ipython2",
   "version": "2.7.6"
  }
 },
 "nbformat": 4,
 "nbformat_minor": 0
}
